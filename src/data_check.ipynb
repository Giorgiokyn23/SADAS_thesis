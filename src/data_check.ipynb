{
 "cells": [
  {
   "cell_type": "markdown",
   "metadata": {},
   "source": [
    "### Imports"
   ]
  },
  {
   "cell_type": "code",
   "execution_count": 1,
   "metadata": {},
   "outputs": [],
   "source": [
    "import pandas as pd\n",
    "import os"
   ]
  },
  {
   "cell_type": "markdown",
   "metadata": {},
   "source": [
    "### Check which datasets are multigraphs"
   ]
  },
  {
   "cell_type": "code",
   "execution_count": 2,
   "metadata": {},
   "outputs": [],
   "source": [
    "def is_multigraph(folder, dataset, ori_str, dest_str):\n",
    "    # load edges in ram\n",
    "    edges = pd.read_csv(folder+dataset+\"_edges.csv\", sep=';', dtype=pd.StringDtype())\n",
    "    # keep only columns containing origin and destination ids\n",
    "    only_ids = edges[[ori_str, dest_str]]\n",
    "    num_edges = len(only_ids)\n",
    "    unique_edges = only_ids.drop_duplicates()\n",
    "    num_unique_edges = len(unique_edges)\n",
    "    if num_unique_edges < num_edges:\n",
    "        print(\"{}: total number {} vs unique edges {}\".format(dataset, num_edges, num_unique_edges))\n",
    "        return True\n",
    "    else:\n",
    "        return False"
   ]
  },
  {
   "cell_type": "code",
   "execution_count": null,
   "metadata": {},
   "outputs": [
    {
     "name": "stdout",
     "output_type": "stream",
     "text": [
      "AUI: total number 1281116 vs unique edges 247321\n",
      "CTP: total number 1674271 vs unique edges 1519361\n"
     ]
    }
   ],
   "source": [
    "is_multigraph(\"../data/my_datasets/\", \"AUI\", \"NDG_ORIGINE\", \"NDG_DESTINAZIONE\")\n",
    "is_multigraph(\"../data/my_datasets/\", \"CTP\", \"ID_NODO_ORIGINE\", \"ID_NODO_DESTINAZIONE\")\n",
    "is_multigraph(\"../data/my_datasets/\", \"NEXI\", \"ID_NODO_ORIGINE\", \"ID_NODO_DESTINAZIONE\")"
   ]
  },
  {
   "cell_type": "markdown",
   "metadata": {},
   "source": [
    "### Create subgraphs for faster tests"
   ]
  },
  {
   "cell_type": "code",
   "execution_count": 5,
   "metadata": {},
   "outputs": [],
   "source": [
    "# set input and output folders\n",
    "input_folder =\"../data/my_datasets/\"\n",
    "output_folder=\"../data/my_datasets/small/\""
   ]
  },
  {
   "cell_type": "code",
   "execution_count": null,
   "metadata": {},
   "outputs": [],
   "source": [
    "def make_subgraph(dataset, id_name, id_ori_name, id_dest_name, num_lines):\n",
    "    print(\"Creating \"+ dataset + \" subgraph of {} nodes\".format(num_lines))\n",
    "\t#Load nodes\n",
    "\tnodes = pd.read_csv(input_folder+dataset+\"_nodes.csv\", sep=';', dtype=pd.StringDtype())\n",
    "\t#Sort descending\n",
    "\t#sorted_nodes = nodes.sort_values(by=id_name, ascending=False)\n",
    "\t#Store the first num_lines rows in new csv\n",
    "\tnodes.head(num_lines).to_csv(output_folder+dataset+\"_nodes.csv\", sep=';', index=False)\n",
    "\t#Creating list of UNIQUE NDGS of the first num_lines rows\n",
    "\tnodes_ids = nodes.head(num_lines)[id_name].tolist()\n",
    "\n",
    "\t#Load edges\n",
    "\tedges = pd.read_csv(input_folder+dataset+\"_edges.csv\", sep=';', dtype=pd.StringDtype())\n",
    "\t#Select rows from existing nodes\n",
    "\tfrom_existing = edges[edges[id_ori_name].isin(nodes_ids)]\n",
    "\t#Filter those and take only the edges to existing nodes\n",
    "\tto_existing = from_existing[from_existing[id_dest_name].isin(nodes_ids)]\n",
    "\t#Store the edges\n",
    "\tedg_name = output_folder+dataset+\"_edges.csv\"\n",
    "\tto_existing.to_csv(edg_name, sep=';', index=False)\n",
    "\tos.system(\"wc -l \"+ edg_name + \" | cut -f1 -d' '\")"
   ]
  },
  {
   "cell_type": "code",
   "execution_count": null,
   "metadata": {},
   "outputs": [],
   "source": [
    "# Delete all files from putput folder\n",
    "os.system(\"rm \"+output_folder+\"*.csv\")\n",
    "# Create AUI subgraph of n_nodes nodes\n",
    "n_nodes = 200\n",
    "make_subgraph(\"AUI\", \"NDG\", \"NDG_ORIGINE\", \"NDG_DESTINAZIONE\", n_nodes)\n",
    "# Create CTP subgraph of n_nodes nodes\n",
    "n_nodes = 500\n",
    "make_subgraph(\"CTP\", \"CD_NDG\", \"ID_NODO_ORIGINE\", \"ID_NODO_DESTINAZIONE\", 500)\n",
    "# Create NEXI subgraph of n_nodes nodes\n",
    "n_nodes = 40000\n",
    "make_subgraph(\"NEXI\", \"ID_NODO\", \"ID_NODO_ORIGINE\", \"ID_NODO_DESTINAZIONE\", 40000)"
   ]
  },
  {
   "cell_type": "code",
   "execution_count": null,
   "metadata": {},
   "outputs": [],
   "source": []
  },
  {
   "cell_type": "code",
   "execution_count": null,
   "metadata": {},
   "outputs": [],
   "source": []
  },
  {
   "cell_type": "code",
   "execution_count": null,
   "metadata": {},
   "outputs": [],
   "source": []
  },
  {
   "cell_type": "code",
   "execution_count": null,
   "metadata": {},
   "outputs": [],
   "source": []
  }
 ],
 "metadata": {
  "kernelspec": {
   "display_name": "Python 3",
   "language": "python",
   "name": "python3"
  },
  "language_info": {
   "codemirror_mode": {
    "name": "ipython",
    "version": 3
   },
   "file_extension": ".py",
   "mimetype": "text/x-python",
   "name": "python",
   "nbconvert_exporter": "python",
   "pygments_lexer": "ipython3",
   "version": "3.7.3"
  }
 },
 "nbformat": 4,
 "nbformat_minor": 4
}
